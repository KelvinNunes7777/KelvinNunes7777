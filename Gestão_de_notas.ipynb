{
  "nbformat": 4,
  "nbformat_minor": 0,
  "metadata": {
    "colab": {
      "provenance": [],
      "authorship_tag": "ABX9TyMRGyR0Fq4FIOUB8jSpJZga",
      "include_colab_link": true
    },
    "kernelspec": {
      "name": "python3",
      "display_name": "Python 3"
    },
    "language_info": {
      "name": "python"
    }
  },
  "cells": [
    {
      "cell_type": "markdown",
      "metadata": {
        "id": "view-in-github",
        "colab_type": "text"
      },
      "source": [
        "<a href=\"https://colab.research.google.com/github/KelvinNunes7777/KelvinNunes7777/blob/main/Gest%C3%A3o_de_notas.ipynb\" target=\"_parent\"><img src=\"https://colab.research.google.com/assets/colab-badge.svg\" alt=\"Open In Colab\"/></a>"
      ]
    },
    {
      "cell_type": "code",
      "execution_count": 29,
      "metadata": {
        "id": "H5Eu7-BclsPf",
        "colab": {
          "base_uri": "https://localhost:8080/"
        },
        "outputId": "2265fd54-6516-4611-a515-83c237c78101"
      },
      "outputs": [
        {
          "name": "stdout",
          "output_type": "stream",
          "text": [
            "Digite a nota 1: 8\n",
            "Digite a nota 2: 9\n",
            "Digite a nota 3: 7\n",
            "Digite a nota 4: 6\n",
            "Digite a nota 5: 8\n"
          ]
        }
      ],
      "source": [
        "# Inserimento das notas\n",
        "\n",
        "nota_1 = int(input(\"Digite a nota 1: \"))\n",
        "nota_2 = int(input(\"Digite a nota 2: \"))\n",
        "nota_3 = int(input(\"Digite a nota 3: \"))\n",
        "nota_4 = int(input(\"Digite a nota 4: \"))\n",
        "nota_5 = int(input(\"Digite a nota 5: \"))"
      ]
    },
    {
      "cell_type": "code",
      "source": [
        "# Armazenar as notas em uma lista\n",
        "\n",
        "nota = [nota_1, nota_2, nota_3, nota_4, nota_5]\n",
        "print(nota)"
      ],
      "metadata": {
        "colab": {
          "base_uri": "https://localhost:8080/"
        },
        "id": "FWAkAlHSWNts",
        "outputId": "e50bfb6a-770b-4df4-e8e1-414ba1bfdf26"
      },
      "execution_count": 30,
      "outputs": [
        {
          "output_type": "stream",
          "name": "stdout",
          "text": [
            "[8, 9, 7, 6, 8]\n"
          ]
        }
      ]
    },
    {
      "cell_type": "code",
      "source": [
        "# Função para calcular a média\n",
        "\n",
        "def calcular_media(nota):\n",
        "  total = sum(nota)\n",
        "  media = total / len(nota)\n",
        "  return media"
      ],
      "metadata": {
        "id": "7rH0a6pTZJM_"
      },
      "execution_count": 31,
      "outputs": []
    },
    {
      "cell_type": "code",
      "source": [
        "# Calcular média\n",
        "\n",
        "media = calcular_media(nota)"
      ],
      "metadata": {
        "id": "5dIDepDja5yp"
      },
      "execution_count": 32,
      "outputs": []
    },
    {
      "cell_type": "code",
      "source": [
        "# Verificar aprovação\n",
        "\n",
        "situacao = \"Aprovado\" if media >= 7 else \"Reprovado\""
      ],
      "metadata": {
        "id": "k1FcCPcuWNiA"
      },
      "execution_count": 33,
      "outputs": []
    },
    {
      "cell_type": "code",
      "source": [
        "# Resultados\n",
        "\n",
        "print(\"Notas dos estudantes:\", nota)\n",
        "print(\"Média dos estudantes:\", media)\n",
        "print(\"Situação do estudante\", situacao)"
      ],
      "metadata": {
        "colab": {
          "base_uri": "https://localhost:8080/"
        },
        "id": "C1KKUEYeWM9d",
        "outputId": "c4f46640-5113-4d43-a2f7-6b269912d65c"
      },
      "execution_count": 34,
      "outputs": [
        {
          "output_type": "stream",
          "name": "stdout",
          "text": [
            "Notas dos estudantes: [8, 9, 7, 6, 8]\n",
            "Média dos estudantes: 7.6\n",
            "Situação do estudante Aprovado\n"
          ]
        }
      ]
    }
  ]
}